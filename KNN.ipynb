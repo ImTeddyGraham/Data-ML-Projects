{
  "nbformat": 4,
  "nbformat_minor": 0,
  "metadata": {
    "colab": {
      "provenance": [],
      "authorship_tag": "ABX9TyNe4lt2fuHJ1P9bkE+vK4Pa",
      "include_colab_link": true
    },
    "kernelspec": {
      "name": "python3",
      "display_name": "Python 3"
    },
    "language_info": {
      "name": "python"
    }
  },
  "cells": [
    {
      "cell_type": "markdown",
      "metadata": {
        "id": "view-in-github",
        "colab_type": "text"
      },
      "source": [
        "<a href=\"https://colab.research.google.com/github/ImTeddyGraham/Data-ML-Projects/blob/main/KNN.ipynb\" target=\"_parent\"><img src=\"https://colab.research.google.com/assets/colab-badge.svg\" alt=\"Open In Colab\"/></a>"
      ]
    },
    {
      "cell_type": "code",
      "execution_count": null,
      "metadata": {
        "id": "E42SFW3Qs1kk"
      },
      "outputs": [],
      "source": [
        "import pandas as pd\n",
        "import numpy as np\n",
        "\n",
        "from sklearn.neighbors import KNeighborsClassifier\n",
        "from sklearn.model_selection import train_test_split\n",
        "from sklearn.metrics import classification_report\n",
        "from sklearn.model_selection import cross_val_predict\n",
        "from sklearn.metrics import log_loss\n",
        "from sklearn.metrics import DistanceMetric\n",
        "from scipy.spatial.distance import mahalanobis\n",
        "import seaborn as sns"
      ]
    },
    {
      "cell_type": "code",
      "source": [
        "dataset = pd.read_csv('/content/heart_failure_clinical_records_dataset.csv')\n",
        "labels = dataset['DEATH_EVENT']\n",
        "features = dataset.drop('DEATH_EVENT', axis=1)"
      ],
      "metadata": {
        "id": "D0qOB02puhIb"
      },
      "execution_count": null,
      "outputs": []
    },
    {
      "cell_type": "code",
      "source": [
        "X_train, X_test, y_train, y_test = train_test_split(features, labels, test_size=0.2, random_state=69) "
      ],
      "metadata": {
        "id": "6Ncvlg8Hv6D8"
      },
      "execution_count": null,
      "outputs": []
    },
    {
      "cell_type": "code",
      "source": [
        "y_test.value_counts()"
      ],
      "metadata": {
        "id": "a1SFL5APph2w",
        "outputId": "311dae84-2fb2-48f8-edf4-d10105bb4d9e",
        "colab": {
          "base_uri": "https://localhost:8080/"
        }
      },
      "execution_count": null,
      "outputs": [
        {
          "output_type": "execute_result",
          "data": {
            "text/plain": [
              "0    40\n",
              "1    20\n",
              "Name: DEATH_EVENT, dtype: int64"
            ]
          },
          "metadata": {},
          "execution_count": 4
        }
      ]
    },
    {
      "cell_type": "code",
      "source": [
        "for n in (1, 25, len(X_train)):\n",
        "  neigh_mahalanobis = KNeighborsClassifier(n_neighbors=n, metric=mahalanobis, metric_params={'VI':np.linalg.inv(np.cov(X_train.T))})\n",
        "  neigh_cityblock = KNeighborsClassifier(n_neighbors=n, metric='cityblock')\n",
        "  neigh_cosine = KNeighborsClassifier(n_neighbors=n, metric='cosine')\n",
        "  neigh_minkowski = KNeighborsClassifier(n_neighbors=n, metric='minkowski')\n",
        "\n",
        "  neigh_mahalanobis.fit(X_train, y_train)\n",
        "  neigh_cityblock.fit(X_train, y_train)\n",
        "  neigh_cosine.fit(X_train, y_train)\n",
        "  neigh_minkowski.fit(X_train, y_train)\n",
        "\n",
        "  print(f'MODEL ACCURACY FOR K = {n}\\n'\n",
        "        f'Mahalanobis Distance Model: {neigh_mahalanobis.score(X_test, y_test):.2f}\\n'\n",
        "        f'City Block Distance Model: {neigh_cityblock.score(X_test, y_test):.2f}\\n'\n",
        "        f'Cosine Distance Model: {neigh_cosine.score(X_test, y_test):.2f}\\n'\n",
        "        f'Minkowski Distance Model: {neigh_minkowski.score(X_test, y_test):.2f}','\\n'*5)"
      ],
      "metadata": {
        "colab": {
          "base_uri": "https://localhost:8080/"
        },
        "id": "0Yl3GNI2gvO7",
        "outputId": "38df83ec-32a2-4e3b-d8cc-13a04c7056be"
      },
      "execution_count": null,
      "outputs": [
        {
          "output_type": "stream",
          "name": "stdout",
          "text": [
            "MODEL ACCURACY FOR K = 1\n",
            "Mahalanobis Distance Model: 0.63\n",
            "City Block Distance Model: 0.57\n",
            "Cosine Distance Model: 0.63\n",
            "Minkowski Distance Model: 0.52 \n",
            "\n",
            "\n",
            "\n",
            "\n",
            "\n",
            "MODEL ACCURACY FOR K = 25\n",
            "Mahalanobis Distance Model: 0.70\n",
            "City Block Distance Model: 0.67\n",
            "Cosine Distance Model: 0.75\n",
            "Minkowski Distance Model: 0.67 \n",
            "\n",
            "\n",
            "\n",
            "\n",
            "\n",
            "MODEL ACCURACY FOR K = 239\n",
            "Mahalanobis Distance Model: 0.67\n",
            "City Block Distance Model: 0.67\n",
            "Cosine Distance Model: 0.67\n",
            "Minkowski Distance Model: 0.67 \n",
            "\n",
            "\n",
            "\n",
            "\n",
            "\n"
          ]
        }
      ]
    },
    {
      "cell_type": "code",
      "source": [
        "for k_value in (5,10,20):\n",
        "  neigh = KNeighborsClassifier(n_neighbors=k_value)\n",
        "  neigh.fit(X_train, y_train)\n",
        "  y_pred_train = neigh.predict(X_train)\n",
        "  y_pred_test =  neigh.predict(X_test)\n",
        "\n",
        "  print(f'TRAINING SET METRICS FOR K = {k_value}:\\n\\n'\n",
        "        f'Log Loss = {log_loss(y_train, y_pred_train):.2f}\\n\\n'\n",
        "        f'{classification_report(y_train, y_pred_train, zero_division=0)}\\n\\n\\n'\n",
        "        f'TEST SET METRICS FOR K = {k_value}:\\n\\n'\n",
        "        f'Log Loss = {log_loss(y_test, y_pred_test):.2f}\\n\\n'\n",
        "        f'{classification_report(y_test, y_pred_test, zero_division=0)}\\n\\n\\n', '-'*53)"
      ],
      "metadata": {
        "colab": {
          "base_uri": "https://localhost:8080/"
        },
        "id": "hUbMi6AqvQxb",
        "outputId": "7510adaf-67be-47eb-c9ee-9b498101fc55"
      },
      "execution_count": null,
      "outputs": [
        {
          "output_type": "stream",
          "name": "stdout",
          "text": [
            "TRAINING SET METRICS FOR K = 5:\n",
            "\n",
            "Log Loss = 9.3934479448766\n",
            "\n",
            "              precision    recall  f1-score   support\n",
            "\n",
            "           0       0.75      0.90      0.82       163\n",
            "           1       0.62      0.37      0.46        76\n",
            "\n",
            "    accuracy                           0.73       239\n",
            "   macro avg       0.69      0.63      0.64       239\n",
            "weighted avg       0.71      0.73      0.71       239\n",
            "\n",
            "\n",
            "\n",
            "TEST SET METRICS FOR K = 5:\n",
            "\n",
            "Log Loss = 13.239970897706455\n",
            "\n",
            "              precision    recall  f1-score   support\n",
            "\n",
            "           0       0.68      0.80      0.74        40\n",
            "           1       0.38      0.25      0.30        20\n",
            "\n",
            "    accuracy                           0.62        60\n",
            "   macro avg       0.53      0.53      0.52        60\n",
            "weighted avg       0.58      0.62      0.59        60\n",
            "\n",
            "\n",
            "\n",
            " -----------------------------------------------------\n",
            "TRAINING SET METRICS FOR K = 10:\n",
            "\n",
            "Log Loss = 10.838538194186578\n",
            "\n",
            "              precision    recall  f1-score   support\n",
            "\n",
            "           0       0.69      0.98      0.81       163\n",
            "           1       0.57      0.05      0.10        76\n",
            "\n",
            "    accuracy                           0.69       239\n",
            "   macro avg       0.63      0.52      0.45       239\n",
            "weighted avg       0.65      0.69      0.58       239\n",
            "\n",
            "\n",
            "\n",
            "TEST SET METRICS FOR K = 10:\n",
            "\n",
            "Log Loss = 12.088585064842578\n",
            "\n",
            "              precision    recall  f1-score   support\n",
            "\n",
            "           0       0.66      0.97      0.79        40\n",
            "           1       0.00      0.00      0.00        20\n",
            "\n",
            "    accuracy                           0.65        60\n",
            "   macro avg       0.33      0.49      0.39        60\n",
            "weighted avg       0.44      0.65      0.53        60\n",
            "\n",
            "\n",
            "\n",
            " -----------------------------------------------------\n",
            "TRAINING SET METRICS FOR K = 20:\n",
            "\n",
            "Log Loss = 10.983041866164067\n",
            "\n",
            "              precision    recall  f1-score   support\n",
            "\n",
            "           0       0.68      1.00      0.81       163\n",
            "           1       0.00      0.00      0.00        76\n",
            "\n",
            "    accuracy                           0.68       239\n",
            "   macro avg       0.34      0.50      0.41       239\n",
            "weighted avg       0.47      0.68      0.55       239\n",
            "\n",
            "\n",
            "\n",
            "TEST SET METRICS FOR K = 20:\n",
            "\n",
            "Log Loss = 11.512925464970227\n",
            "\n",
            "              precision    recall  f1-score   support\n",
            "\n",
            "           0       0.67      1.00      0.80        40\n",
            "           1       0.00      0.00      0.00        20\n",
            "\n",
            "    accuracy                           0.67        60\n",
            "   macro avg       0.33      0.50      0.40        60\n",
            "weighted avg       0.44      0.67      0.53        60\n",
            "\n",
            "\n",
            "\n",
            " -----------------------------------------------------\n"
          ]
        }
      ]
    },
    {
      "cell_type": "code",
      "source": [],
      "metadata": {
        "id": "62K7r-DEnZj9"
      },
      "execution_count": null,
      "outputs": []
    }
  ]
}