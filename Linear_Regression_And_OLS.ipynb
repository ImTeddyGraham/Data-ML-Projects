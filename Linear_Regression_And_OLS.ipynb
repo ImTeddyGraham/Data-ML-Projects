{
  "nbformat": 4,
  "nbformat_minor": 0,
  "metadata": {
    "colab": {
      "provenance": [],
      "authorship_tag": "ABX9TyOaPJNJiPsuEFBKKMJCImeh",
      "include_colab_link": true
    },
    "kernelspec": {
      "name": "python3",
      "display_name": "Python 3"
    },
    "language_info": {
      "name": "python"
    }
  },
  "cells": [
    {
      "cell_type": "markdown",
      "metadata": {
        "id": "view-in-github",
        "colab_type": "text"
      },
      "source": [
        "<a href=\"https://colab.research.google.com/github/ImTeddyGraham/Data-ML-Projects/blob/main/Linear_Regression_And_OLS.ipynb\" target=\"_parent\"><img src=\"https://colab.research.google.com/assets/colab-badge.svg\" alt=\"Open In Colab\"/></a>"
      ]
    },
    {
      "cell_type": "code",
      "execution_count": 1,
      "metadata": {
        "id": "yY2ZNAF9qagE"
      },
      "outputs": [],
      "source": [
        "import numpy as np\n",
        "\n",
        "import pandas as pd\n",
        "\n",
        "from sklearn.pipeline import Pipeline\n",
        "from sklearn.linear_model import SGDRegressor\n",
        "from sklearn.preprocessing import StandardScaler\n",
        "from sklearn.model_selection import train_test_split"
      ]
    },
    {
      "cell_type": "code",
      "source": [
        "# HELPER FUNCTIONS \n",
        "# Mean Error\n",
        "def Mean_Error(y_true, y_pred, k=2):\n",
        "  return (1/y_true.shape[0])*sum(np.power(np.abs(y_true-y_pred), k))\n",
        "\n",
        "# R squared coefficient\n",
        "def R2_score(y_true, y_pred):\n",
        "  y_mean = np.full(y_true.shape, y_true.mean())\n",
        "  model_MSE = Mean_Error(y_true, y_pred)\n",
        "  baseline_MSE = Mean_Error(y_true, y_mean)\n",
        "  return 1 - (model_MSE/baseline_MSE)"
      ],
      "metadata": {
        "id": "X98m_n_B3Y0B"
      },
      "execution_count": 2,
      "outputs": []
    },
    {
      "cell_type": "code",
      "source": [
        "# DATA PREPROCESSING "
      ],
      "metadata": {
        "id": "6cQQXv1N7VTb"
      },
      "execution_count": 3,
      "outputs": []
    },
    {
      "cell_type": "code",
      "source": [
        "# Load Dataset \n",
        "X = pd.read_csv('https://archive.ics.uci.edu/ml/machine-learning-databases/wine/wine.data')"
      ],
      "metadata": {
        "id": "U3tdBN6Eqbtr"
      },
      "execution_count": 4,
      "outputs": []
    },
    {
      "cell_type": "code",
      "source": [
        "# Add missing feature names\n",
        "X.columns = ['Class', 'Alcohol', 'Malic acid', 'Ash', 'Alcalinity of ash',\n",
        "                   'Magnesium', 'Total phenols', 'Flavanoids',\n",
        "                   'Nonflavanoid phenols', 'Proanthocyanins', 'Color intensity',\n",
        "                   'Hue', 'OD280/OD315 of diluted wines', 'Proline'] "
      ],
      "metadata": {
        "id": "GBuBXxXGqhIR"
      },
      "execution_count": 5,
      "outputs": []
    },
    {
      "cell_type": "code",
      "source": [
        "# Create target vector\n",
        "y = X.pop('Class')"
      ],
      "metadata": {
        "id": "XmPX3qA5tLXj"
      },
      "execution_count": 6,
      "outputs": []
    },
    {
      "cell_type": "code",
      "source": [
        "# Splits data into test (20%) and training (80%) sets\n",
        "X_train, X_test, y_train, y_test = train_test_split(X, y, test_size=0.2, random_state=69)"
      ],
      "metadata": {
        "id": "GAqX__B1qiiz"
      },
      "execution_count": 7,
      "outputs": []
    },
    {
      "cell_type": "code",
      "source": [
        "# MODEL CREATION AND TRAINING"
      ],
      "metadata": {
        "id": "QTIBvHdj7J6D"
      },
      "execution_count": 8,
      "outputs": []
    },
    {
      "cell_type": "markdown",
      "source": [
        "# ORDINARY LEAST SQUARES "
      ],
      "metadata": {
        "id": "WGEyA5_yUkeK"
      }
    },
    {
      "cell_type": "code",
      "source": [
        "# Matrix Method For Least Square Approximate Solution\n",
        "# remember we must add a column of 1's to our data matrix so we can have a constant term (intercept/bias)\n",
        "\n",
        "# w_hat = (X.T @ X)^(-1) @ X.T @ y\n",
        "def matrix_OLS(A, y):\n",
        "  new_A = np.hstack((np.ones((A.shape[0],1)), A))\n",
        "  return np.linalg.inv(new_A.T @ new_A) @ new_A.T @ y"
      ],
      "metadata": {
        "id": "I4bVKahmUnQK"
      },
      "execution_count": 9,
      "outputs": []
    },
    {
      "cell_type": "code",
      "source": [
        "# Stores weights for least squares approx soliution\n",
        "OLS_weights = matrix_OLS(X_train, y_train)"
      ],
      "metadata": {
        "id": "bo9Ohh2wc2RM"
      },
      "execution_count": 10,
      "outputs": []
    },
    {
      "cell_type": "code",
      "source": [
        "# Obtains predictions for training and test data y_hat = X @ w_hat\n",
        "OLS_test_pred = np.hstack((np.ones((X_test.shape[0], 1)), X_test)) @ OLS_weights\n",
        "OLS_train_pred = np.hstack((np.ones((X_train.shape[0], 1)), X_train)) @ OLS_weights"
      ],
      "metadata": {
        "id": "Hz1Ug7X3AH28"
      },
      "execution_count": 11,
      "outputs": []
    },
    {
      "cell_type": "code",
      "source": [
        "# Training data metrics \n",
        "OLS_training_MAE = Mean_Error(y_train, OLS_train_pred, k=1)\n",
        "OLS_training_MSE = Mean_Error(y_train, OLS_train_pred)\n",
        "OLS_training_R2 = R2_score(y_train, OLS_train_pred)\n",
        "\n",
        "# Test data metrics\n",
        "OLS_test_MAE = Mean_Error(y_test, OLS_test_pred, k=1)\n",
        "OLS_test_MSE = Mean_Error(y_test, OLS_test_pred)\n",
        "OLS_test_R2 = R2_score(y_test, OLS_test_pred)"
      ],
      "metadata": {
        "id": "Jjbw4qe2A1dG"
      },
      "execution_count": 12,
      "outputs": []
    },
    {
      "cell_type": "markdown",
      "source": [
        "# SGD LINEAR REGRESSION"
      ],
      "metadata": {
        "id": "dqbd0s3jJKG7"
      }
    },
    {
      "cell_type": "code",
      "source": [
        "# Creates a pipeline with linear regression model and scales inputs \n",
        "pipe = Pipeline([('scaler', StandardScaler()), ('clf', SGDRegressor())])"
      ],
      "metadata": {
        "id": "10vZUhqGtkZa"
      },
      "execution_count": 13,
      "outputs": []
    },
    {
      "cell_type": "code",
      "source": [
        "# Fits model to test data\n",
        "pipe.fit(X_train, y_train)"
      ],
      "metadata": {
        "colab": {
          "base_uri": "https://localhost:8080/"
        },
        "id": "lJ_VadhFqxFZ",
        "outputId": "5468eb8e-3cfd-49c0-a4b1-1f85161c6cba"
      },
      "execution_count": 14,
      "outputs": [
        {
          "output_type": "execute_result",
          "data": {
            "text/plain": [
              "Pipeline(steps=[('scaler', StandardScaler()), ('clf', SGDRegressor())])"
            ]
          },
          "metadata": {},
          "execution_count": 14
        }
      ]
    },
    {
      "cell_type": "code",
      "source": [
        "# Creates another linear regression model. This model takes in unscaled features\n",
        "reg = SGDRegressor()"
      ],
      "metadata": {
        "id": "VSL1UyVe0lwI"
      },
      "execution_count": 15,
      "outputs": []
    },
    {
      "cell_type": "code",
      "source": [
        "# Fits model to the same training set\n",
        "reg.fit(X_train, y_train)"
      ],
      "metadata": {
        "colab": {
          "base_uri": "https://localhost:8080/"
        },
        "id": "sM4ed1De0vmU",
        "outputId": "84e2e0da-8fe6-4078-a674-4ad3b62335e4"
      },
      "execution_count": 16,
      "outputs": [
        {
          "output_type": "execute_result",
          "data": {
            "text/plain": [
              "SGDRegressor()"
            ]
          },
          "metadata": {},
          "execution_count": 16
        }
      ]
    },
    {
      "cell_type": "code",
      "source": [
        "# MODEL USING STANDARD SCALER \n",
        "\n",
        "scaled_weights = np.concatenate([pipe['clf'].intercept_, pipe['clf'].coef_])\n",
        "\n",
        "# training data metrics \n",
        "test_MAE_scaled = Mean_Error(y_test, pipe.predict(X_test), k=1)\n",
        "test_MSE_scaled = Mean_Error(y_test, pipe.predict(X_test))\n",
        "test_R2_scaled = R2_score(y_test, pipe.predict(X_test))\n",
        "\n",
        "# test data metrics\n",
        "train_MAE_scaled = Mean_Error(y_train, pipe.predict(X_train), k=1)\n",
        "train_MSE_scaled = Mean_Error(y_train, pipe.predict(X_train))\n",
        "train_R2_scaled = R2_score(y_train, pipe.predict(X_train))"
      ],
      "metadata": {
        "id": "Qt5Z48ZP8i0K"
      },
      "execution_count": 17,
      "outputs": []
    },
    {
      "cell_type": "code",
      "source": [
        "# MODEL USING UNSCALED INPUTS\n",
        "\n",
        "unscaled_weights = np.concatenate([reg.intercept_, reg.coef_])\n",
        "\n",
        "# training data metrics \n",
        "test_MAE_unscaled = Mean_Error(y_test, reg.predict(X_test), k=1)\n",
        "test_MSE_unscaled = Mean_Error(y_test, reg.predict(X_test))\n",
        "test_R2_unscaled = R2_score(y_test, reg.predict(X_test))\n",
        "\n",
        "# test data metrics\n",
        "train_MAE_unscaled = Mean_Error(y_train, reg.predict(X_train), k=1)\n",
        "train_MSE_unscaled = Mean_Error(y_train, reg.predict(X_train))\n",
        "train_R2_unscaled = R2_score(y_train, reg.predict(X_train))"
      ],
      "metadata": {
        "id": "-YZEqYEh8rB8"
      },
      "execution_count": 18,
      "outputs": []
    },
    {
      "cell_type": "code",
      "source": [
        "# Model summaries\n",
        "\n",
        "print(f\"OLS MODEL TRAINING METRICS:\\nMAE = {OLS_training_MAE:.4f}\\nMSE = {OLS_training_MSE:.4f}\\nR^2 = {OLS_training_R2:.4f}\"\\\n",
        "      f\"\\n\\nOLS MODEL TEST METRICS:\\nMAE = {OLS_test_MAE:.4f}\\nMSE = {OLS_test_MSE:.4f}\\nR^2 = {OLS_test_R2:.4f}\\n\")\n",
        "print(f\"OLS WEIGHTS:\\n{OLS_weights}\\n\\n\\n\")\n",
        "\n",
        "print(f\"SCALED MODEL TRAINING METRICS:\\nMAE = {train_MAE_scaled:.4f}\\nMSE = {train_MSE_scaled:.4f}\\nR^2 = {train_R2_scaled:.4f}\"\\\n",
        "      f\"\\n\\nSCALED MODEL TEST METRICS:\\nMAE = {test_MAE_scaled:.4f}\\nMSE = {test_MSE_scaled:.4f}\\nR^2 = {test_R2_scaled:.4f}\\n\")\n",
        "print(f\"MODEL WEIGHTS:\\n{scaled_weights}\\n\\n\\n\")\n",
        "\n",
        "print(f\"UNSCALED MODEL TRAINING METRICS:\\nMAE = {train_MAE_unscaled}\\nMSE = {train_MSE_unscaled}\\nR^2 = {train_R2_unscaled}\"\\\n",
        "      f\"\\n\\nUNSCALED MODEL TEST METRICS:\\nMAE = {test_MAE_unscaled}\\nMSE = {test_MSE_unscaled}\\nR^2 = {test_R2_unscaled}\\n\")\n",
        "print(f\"MODEL WEIGHTS:\\n{unscaled_weights}\")"
      ],
      "metadata": {
        "colab": {
          "base_uri": "https://localhost:8080/"
        },
        "id": "tMm3iHhEA26c",
        "outputId": "0739d075-49ae-4f29-b26f-d2327b0cbd4c"
      },
      "execution_count": 19,
      "outputs": [
        {
          "output_type": "stream",
          "name": "stdout",
          "text": [
            "OLS MODEL TRAINING METRICS:\n",
            "MAE = 0.1933\n",
            "MSE = 0.0606\n",
            "R^2 = 0.8977\n",
            "\n",
            "OLS MODEL TEST METRICS:\n",
            "MAE = 0.2034\n",
            "MSE = 0.0614\n",
            "R^2 = 0.8991\n",
            "\n",
            "OLS WEIGHTS:\n",
            "[ 4.59635051e+00 -1.33215978e-01  2.62970629e-02 -6.57439762e-02\n",
            "  3.89027154e-02 -6.51032673e-04  1.64831734e-01 -3.93600926e-01\n",
            " -4.56859176e-01  4.34239551e-02  7.27289200e-02 -8.33029804e-02\n",
            " -2.83815825e-01 -7.28661195e-04]\n",
            "\n",
            "\n",
            "\n",
            "SCALED MODEL TRAINING METRICS:\n",
            "MAE = 0.2050\n",
            "MSE = 0.0663\n",
            "R^2 = 0.8881\n",
            "\n",
            "SCALED MODEL TEST METRICS:\n",
            "MAE = 0.1924\n",
            "MSE = 0.0568\n",
            "R^2 = 0.9066\n",
            "\n",
            "MODEL WEIGHTS:\n",
            "[ 1.92429883e+00 -1.09065327e-01  3.65737361e-02 -4.78187505e-02\n",
            "  1.48722403e-01  5.60334030e-03 -8.37373884e-03 -2.28685027e-01\n",
            " -2.88633838e-02  4.71843189e-04  1.48880952e-01 -5.63074654e-02\n",
            " -2.06125998e-01 -1.98180721e-01]\n",
            "\n",
            "\n",
            "\n",
            "UNSCALED MODEL TRAINING METRICS:\n",
            "MAE = 170293835911665.25\n",
            "MSE = 3.362996898876712e+28\n",
            "R^2 = -5.675699604971798e+28\n",
            "\n",
            "UNSCALED MODEL TEST METRICS:\n",
            "MAE = 178693445270631.4\n",
            "MSE = 3.6653409331279964e+28\n",
            "R^2 = -6.028276458545539e+28\n",
            "\n",
            "MODEL WEIGHTS:\n",
            "[-2.69858630e+10 -4.21826330e+11 -1.17417922e+11 -8.57945064e+09\n",
            " -4.79189687e+11  3.18286524e+11  1.20954570e+10  5.93021609e+09\n",
            " -1.40544477e+10 -1.42610850e+10 -2.51690003e+11 -2.25115974e+10\n",
            " -1.40736228e+10  2.10414096e+11]\n"
          ]
        }
      ]
    }
  ]
}