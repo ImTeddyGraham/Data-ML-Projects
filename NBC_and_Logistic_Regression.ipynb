{
  "nbformat": 4,
  "nbformat_minor": 0,
  "metadata": {
    "colab": {
      "provenance": [],
      "collapsed_sections": [],
      "authorship_tag": "ABX9TyPsppRzp18TY7p46Ii0pG3D",
      "include_colab_link": true
    },
    "kernelspec": {
      "name": "python3",
      "display_name": "Python 3"
    },
    "language_info": {
      "name": "python"
    }
  },
  "cells": [
    {
      "cell_type": "markdown",
      "metadata": {
        "id": "view-in-github",
        "colab_type": "text"
      },
      "source": [
        "<a href=\"https://colab.research.google.com/github/ImTeddyGraham/Data-ML-Projects/blob/main/NBC_and_Logistic_Regression.ipynb\" target=\"_parent\"><img src=\"https://colab.research.google.com/assets/colab-badge.svg\" alt=\"Open In Colab\"/></a>"
      ]
    },
    {
      "cell_type": "code",
      "execution_count": null,
      "metadata": {
        "id": "4SJ_FF8duEZV"
      },
      "outputs": [],
      "source": [
        "import pandas as pd\n",
        "import numpy as np\n",
        "\n",
        "from google.colab import files, drive\n",
        "\n",
        "from sklearn.pipeline import make_pipeline\n",
        "from sklearn.naive_bayes import GaussianNB\n",
        "from sklearn.metrics import confusion_matrix, log_loss, classification_report\n",
        "from sklearn.linear_model import SGDClassifier\n",
        "from sklearn.preprocessing import StandardScaler\n",
        "from sklearn.model_selection import train_test_split"
      ]
    },
    {
      "cell_type": "code",
      "source": [
        "# Mounts google drive \n",
        "drive.mount('/content/drive')"
      ],
      "metadata": {
        "colab": {
          "base_uri": "https://localhost:8080/"
        },
        "id": "XiF4TXJcxTwR",
        "outputId": "4b8aa312-fe77-4628-a3a9-f57e4fd599bb"
      },
      "execution_count": null,
      "outputs": [
        {
          "output_type": "stream",
          "name": "stdout",
          "text": [
            "Drive already mounted at /content/drive; to attempt to forcibly remount, call drive.mount(\"/content/drive\", force_remount=True).\n"
          ]
        }
      ]
    },
    {
      "cell_type": "code",
      "source": [
        "# Creates a dataframe using a CSV located in google drive \n",
        "dataset = pd.read_csv('/content/drive/MyDrive/adult.csv', na_values='?')"
      ],
      "metadata": {
        "id": "Z3XBDoqbzOE2"
      },
      "execution_count": null,
      "outputs": []
    },
    {
      "cell_type": "code",
      "source": [
        "# DATA PREPROCESSING\n",
        "\n",
        "# Adds missing columns names \n",
        "dataset.columns = ['Age','Workclass','fnlwgt','Education','Education-num',\n",
        "                   'Marital-Status','Occupation','Relationship','Race','Sex',\n",
        "                   'Capital-gain','Capital-loss','Hours-per-week',\n",
        "                   'Native_country','Salary']\n",
        "\n",
        "# Drops missing values \n",
        "dataset.dropna(inplace=True)\n",
        "\n",
        "# Creates new label col assigning '>50K' to class '1' and '<=50K' to class '0'\n",
        "dataset.loc[dataset['Salary'] == '>50K', '>50K'] = 1\n",
        "dataset.loc[dataset['Salary'] == '<=50K', '>50K'] = 0\n",
        "\n",
        "# Removes old label col \n",
        "dataset.drop('Salary', axis='columns', inplace=True)\n",
        "\n",
        "# Creates an int label vector\n",
        "labels = dataset['>50K'].astype(int)"
      ],
      "metadata": {
        "id": "ZLtQQID8wUPR"
      },
      "execution_count": null,
      "outputs": []
    },
    {
      "cell_type": "code",
      "source": [
        "# Drops a majority of features for simplification \n",
        "data_simple = dataset.drop(['Workclass','fnlwgt','Education','Marital-Status',\n",
        "                            'Occupation','Relationship','Race','Sex','Capital-gain',\n",
        "                            'Capital-loss','Native_country','>50K'],axis='columns')\n",
        "\n",
        "# Recasts data to type float\n",
        "data_simple.astype(np.float64)\n",
        "\n",
        "# Used later for interpreting statistics \n",
        "target_names = ['class 0', 'class 1']"
      ],
      "metadata": {
        "id": "DYoZyRuM1xli"
      },
      "execution_count": null,
      "outputs": []
    },
    {
      "cell_type": "code",
      "source": [
        "data_simple.head()"
      ],
      "metadata": {
        "id": "W9gFH_eLDM2p",
        "outputId": "ad5ea5e3-18b6-41c9-9fb0-f45c8ec5e143",
        "colab": {
          "base_uri": "https://localhost:8080/",
          "height": 204
        }
      },
      "execution_count": null,
      "outputs": [
        {
          "output_type": "execute_result",
          "data": {
            "text/plain": [
              "   Age  Education-num  Hours-per-week\n",
              "0   25              7              40\n",
              "1   38              9              50\n",
              "2   28             12              40\n",
              "3   44             10              40\n",
              "5   34              6              30"
            ],
            "text/html": [
              "\n",
              "  <div id=\"df-45175193-f62f-4b2e-931c-62349a7f6620\">\n",
              "    <div class=\"colab-df-container\">\n",
              "      <div>\n",
              "<style scoped>\n",
              "    .dataframe tbody tr th:only-of-type {\n",
              "        vertical-align: middle;\n",
              "    }\n",
              "\n",
              "    .dataframe tbody tr th {\n",
              "        vertical-align: top;\n",
              "    }\n",
              "\n",
              "    .dataframe thead th {\n",
              "        text-align: right;\n",
              "    }\n",
              "</style>\n",
              "<table border=\"1\" class=\"dataframe\">\n",
              "  <thead>\n",
              "    <tr style=\"text-align: right;\">\n",
              "      <th></th>\n",
              "      <th>Age</th>\n",
              "      <th>Education-num</th>\n",
              "      <th>Hours-per-week</th>\n",
              "    </tr>\n",
              "  </thead>\n",
              "  <tbody>\n",
              "    <tr>\n",
              "      <th>0</th>\n",
              "      <td>25</td>\n",
              "      <td>7</td>\n",
              "      <td>40</td>\n",
              "    </tr>\n",
              "    <tr>\n",
              "      <th>1</th>\n",
              "      <td>38</td>\n",
              "      <td>9</td>\n",
              "      <td>50</td>\n",
              "    </tr>\n",
              "    <tr>\n",
              "      <th>2</th>\n",
              "      <td>28</td>\n",
              "      <td>12</td>\n",
              "      <td>40</td>\n",
              "    </tr>\n",
              "    <tr>\n",
              "      <th>3</th>\n",
              "      <td>44</td>\n",
              "      <td>10</td>\n",
              "      <td>40</td>\n",
              "    </tr>\n",
              "    <tr>\n",
              "      <th>5</th>\n",
              "      <td>34</td>\n",
              "      <td>6</td>\n",
              "      <td>30</td>\n",
              "    </tr>\n",
              "  </tbody>\n",
              "</table>\n",
              "</div>\n",
              "      <button class=\"colab-df-convert\" onclick=\"convertToInteractive('df-45175193-f62f-4b2e-931c-62349a7f6620')\"\n",
              "              title=\"Convert this dataframe to an interactive table.\"\n",
              "              style=\"display:none;\">\n",
              "        \n",
              "  <svg xmlns=\"http://www.w3.org/2000/svg\" height=\"24px\"viewBox=\"0 0 24 24\"\n",
              "       width=\"24px\">\n",
              "    <path d=\"M0 0h24v24H0V0z\" fill=\"none\"/>\n",
              "    <path d=\"M18.56 5.44l.94 2.06.94-2.06 2.06-.94-2.06-.94-.94-2.06-.94 2.06-2.06.94zm-11 1L8.5 8.5l.94-2.06 2.06-.94-2.06-.94L8.5 2.5l-.94 2.06-2.06.94zm10 10l.94 2.06.94-2.06 2.06-.94-2.06-.94-.94-2.06-.94 2.06-2.06.94z\"/><path d=\"M17.41 7.96l-1.37-1.37c-.4-.4-.92-.59-1.43-.59-.52 0-1.04.2-1.43.59L10.3 9.45l-7.72 7.72c-.78.78-.78 2.05 0 2.83L4 21.41c.39.39.9.59 1.41.59.51 0 1.02-.2 1.41-.59l7.78-7.78 2.81-2.81c.8-.78.8-2.07 0-2.86zM5.41 20L4 18.59l7.72-7.72 1.47 1.35L5.41 20z\"/>\n",
              "  </svg>\n",
              "      </button>\n",
              "      \n",
              "  <style>\n",
              "    .colab-df-container {\n",
              "      display:flex;\n",
              "      flex-wrap:wrap;\n",
              "      gap: 12px;\n",
              "    }\n",
              "\n",
              "    .colab-df-convert {\n",
              "      background-color: #E8F0FE;\n",
              "      border: none;\n",
              "      border-radius: 50%;\n",
              "      cursor: pointer;\n",
              "      display: none;\n",
              "      fill: #1967D2;\n",
              "      height: 32px;\n",
              "      padding: 0 0 0 0;\n",
              "      width: 32px;\n",
              "    }\n",
              "\n",
              "    .colab-df-convert:hover {\n",
              "      background-color: #E2EBFA;\n",
              "      box-shadow: 0px 1px 2px rgba(60, 64, 67, 0.3), 0px 1px 3px 1px rgba(60, 64, 67, 0.15);\n",
              "      fill: #174EA6;\n",
              "    }\n",
              "\n",
              "    [theme=dark] .colab-df-convert {\n",
              "      background-color: #3B4455;\n",
              "      fill: #D2E3FC;\n",
              "    }\n",
              "\n",
              "    [theme=dark] .colab-df-convert:hover {\n",
              "      background-color: #434B5C;\n",
              "      box-shadow: 0px 1px 3px 1px rgba(0, 0, 0, 0.15);\n",
              "      filter: drop-shadow(0px 1px 2px rgba(0, 0, 0, 0.3));\n",
              "      fill: #FFFFFF;\n",
              "    }\n",
              "  </style>\n",
              "\n",
              "      <script>\n",
              "        const buttonEl =\n",
              "          document.querySelector('#df-45175193-f62f-4b2e-931c-62349a7f6620 button.colab-df-convert');\n",
              "        buttonEl.style.display =\n",
              "          google.colab.kernel.accessAllowed ? 'block' : 'none';\n",
              "\n",
              "        async function convertToInteractive(key) {\n",
              "          const element = document.querySelector('#df-45175193-f62f-4b2e-931c-62349a7f6620');\n",
              "          const dataTable =\n",
              "            await google.colab.kernel.invokeFunction('convertToInteractive',\n",
              "                                                     [key], {});\n",
              "          if (!dataTable) return;\n",
              "\n",
              "          const docLinkHtml = 'Like what you see? Visit the ' +\n",
              "            '<a target=\"_blank\" href=https://colab.research.google.com/notebooks/data_table.ipynb>data table notebook</a>'\n",
              "            + ' to learn more about interactive tables.';\n",
              "          element.innerHTML = '';\n",
              "          dataTable['output_type'] = 'display_data';\n",
              "          await google.colab.output.renderOutput(dataTable, element);\n",
              "          const docLink = document.createElement('div');\n",
              "          docLink.innerHTML = docLinkHtml;\n",
              "          element.appendChild(docLink);\n",
              "        }\n",
              "      </script>\n",
              "    </div>\n",
              "  </div>\n",
              "  "
            ]
          },
          "metadata": {},
          "execution_count": 10
        }
      ]
    },
    {
      "cell_type": "code",
      "source": [
        "# Partitions training and test data with a 80/20 split\n",
        "X_train, X_test, Y_train, Y_test = train_test_split(data_simple, labels, test_size=0.2, random_state=0)"
      ],
      "metadata": {
        "id": "5x636tNK0FIG"
      },
      "execution_count": null,
      "outputs": []
    },
    {
      "cell_type": "code",
      "source": [
        "# NAIVE BAYES\n",
        "\n",
        "# Creates and trains NBC model \n",
        "model_NBC = GaussianNB()\n",
        "Y_pred_NBC = model_NBC.fit(X_train, Y_train)\n",
        "\n",
        "# Predicts test and training data\n",
        "Y_pred_NBC = model_NBC.predict(X_test)\n",
        "Y_pred_NBC_train = model_NBC.predict(X_train)"
      ],
      "metadata": {
        "id": "6WxlKvqA0tOH"
      },
      "execution_count": null,
      "outputs": []
    },
    {
      "cell_type": "code",
      "source": [
        "# LOGISTIC REGRESSION WITH SGD \n",
        "\n",
        "# Creates a pipeline with standard scaler. Trains model. Predicts labels \n",
        "pipe = make_pipeline(StandardScaler(),SGDClassifier(loss='log'))\n",
        "pipe.fit(X_train, Y_train)\n",
        "Y_pred_pipe_train = pipe.predict(X_train)\n",
        "Y_pred_pipe = pipe.predict(X_test)\n",
        "\n",
        "# Creates model without scaling.  Trains model. Predicts labels \n",
        "model_LR = SGDClassifier(loss='log')\n",
        "model_LR.fit(X_train, Y_train)\n",
        "Y_pred_LR_train = model_LR.predict(X_train)\n",
        "Y_pred_LR = model_LR.predict(X_test)"
      ],
      "metadata": {
        "colab": {
          "base_uri": "https://localhost:8080/"
        },
        "id": "KqNVv91SG9h-",
        "outputId": "b9ad9150-c9d3-4aa4-a134-0973e595ad7d"
      },
      "execution_count": null,
      "outputs": [
        {
          "output_type": "stream",
          "name": "stderr",
          "text": [
            "/usr/local/lib/python3.7/dist-packages/sklearn/linear_model/_stochastic_gradient.py:688: ConvergenceWarning: Maximum number of iteration reached before convergence. Consider increasing max_iter to improve the fit.\n",
            "  intercept_init,\n"
          ]
        }
      ]
    },
    {
      "cell_type": "code",
      "source": [
        "# NBC stats\n",
        "print('NBC training stats\\n', classification_report(Y_train, Y_pred_NBC_train, target_names=target_names), \n",
        "      '\\n\\n\\nNBC test stats\\n', classification_report(Y_test, Y_pred_NBC, target_names=target_names))\n",
        "print('NBC training log loss', log_loss(Y_train, Y_pred_NBC_train),\n",
        "      '\\nNBC test log loss', log_loss(Y_test, Y_pred_NBC))\n",
        "# Scaled model stats \n",
        "print('\\n\\nScaled-model training stats\\n', classification_report(Y_train, Y_pred_pipe_train, target_names=target_names), \n",
        "      '\\n\\n\\nScaled-model test stats\\n', classification_report(Y_test, Y_pred_pipe, target_names=target_names))\n",
        "print('Scaled-model training log loss', log_loss(Y_train, Y_pred_pipe_train),\n",
        "      '\\nScaled-mode test log loss', log_loss(Y_test, Y_pred_pipe))\n",
        "print('\\nScaled model bias and weight vector', np.hstack((pipe['sgdclassifier'].intercept_[:,None], pipe['sgdclassifier'].coef_)))\n",
        "\n",
        "# Non-scaled model stats \n",
        "print('\\n\\nNon-scaled model training data stats\\n', classification_report(Y_train, Y_pred_LR_train, target_names=target_names), \n",
        "      '\\n\\n\\nNon-scaled  test data stats\\n', classification_report(Y_test, Y_pred_LR, target_names=target_names))\n",
        "print('Non-scaled model training log loss', log_loss(Y_train, Y_pred_LR_train),\n",
        "      '\\nNon-scaled model test log loss', log_loss(Y_test, Y_pred_LR))\n",
        "print('\\nNon-scaled model bias and weight vector', np.hstack((model_LR.intercept_[:,None], model_LR.coef_)))"
      ],
      "metadata": {
        "colab": {
          "base_uri": "https://localhost:8080/"
        },
        "id": "fA6RWJ5kdfwH",
        "outputId": "e6b1e4b9-1704-44e7-f25e-61416a147a87"
      },
      "execution_count": null,
      "outputs": [
        {
          "output_type": "stream",
          "name": "stdout",
          "text": [
            "NBC training stats\n",
            "               precision    recall  f1-score   support\n",
            "\n",
            "     class 0       0.82      0.93      0.87     27241\n",
            "     class 1       0.65      0.38      0.47      8936\n",
            "\n",
            "    accuracy                           0.79     36177\n",
            "   macro avg       0.73      0.65      0.67     36177\n",
            "weighted avg       0.78      0.79      0.77     36177\n",
            " \n",
            "\n",
            "\n",
            "NBC test stats\n",
            "               precision    recall  f1-score   support\n",
            "\n",
            "     class 0       0.81      0.93      0.87      6773\n",
            "     class 1       0.64      0.37      0.46      2272\n",
            "\n",
            "    accuracy                           0.79      9045\n",
            "   macro avg       0.73      0.65      0.67      9045\n",
            "weighted avg       0.77      0.79      0.77      9045\n",
            "\n",
            "NBC training log loss 7.089764943667887 \n",
            "NBC test log loss 7.3049261087287105\n",
            "\n",
            "\n",
            "Scaled-model training stats\n",
            "               precision    recall  f1-score   support\n",
            "\n",
            "     class 0       0.80      0.95      0.87     27241\n",
            "     class 1       0.64      0.26      0.37      8936\n",
            "\n",
            "    accuracy                           0.78     36177\n",
            "   macro avg       0.72      0.61      0.62     36177\n",
            "weighted avg       0.76      0.78      0.75     36177\n",
            " \n",
            "\n",
            "\n",
            "Scaled-model test stats\n",
            "               precision    recall  f1-score   support\n",
            "\n",
            "     class 0       0.79      0.95      0.86      6773\n",
            "     class 1       0.64      0.26      0.37      2272\n",
            "\n",
            "    accuracy                           0.78      9045\n",
            "   macro avg       0.72      0.61      0.62      9045\n",
            "weighted avg       0.75      0.78      0.74      9045\n",
            "\n",
            "Scaled-model training log loss 7.555655467558936 \n",
            "Scaled-mode test log loss 7.686769082066245\n",
            "\n",
            "Scaled model bias and weight vector [[-1.47150095  0.50878403  0.74458371  0.59649318]]\n",
            "\n",
            "\n",
            "Non-scaled model training data stats\n",
            "               precision    recall  f1-score   support\n",
            "\n",
            "     class 0       0.83      0.89      0.86     27241\n",
            "     class 1       0.57      0.45      0.50      8936\n",
            "\n",
            "    accuracy                           0.78     36177\n",
            "   macro avg       0.70      0.67      0.68     36177\n",
            "weighted avg       0.77      0.78      0.77     36177\n",
            " \n",
            "\n",
            "\n",
            "Non-scaled  test data stats\n",
            "               precision    recall  f1-score   support\n",
            "\n",
            "     class 0       0.83      0.88      0.85      6773\n",
            "     class 1       0.56      0.44      0.50      2272\n",
            "\n",
            "    accuracy                           0.77      9045\n",
            "   macro avg       0.69      0.66      0.67      9045\n",
            "weighted avg       0.76      0.77      0.76      9045\n",
            "\n",
            "Non-scaled model training log loss 7.582425278529118 \n",
            "Non-scaled model test log loss 7.82427636457239\n",
            "\n",
            "Non-scaled model bias and weight vector [[-153.7975032     0.9190603     5.97843505    0.92194913]]\n"
          ]
        }
      ]
    },
    {
      "cell_type": "code",
      "source": [],
      "metadata": {
        "id": "q5J-TdOB66Hc"
      },
      "execution_count": null,
      "outputs": []
    }
  ]
}